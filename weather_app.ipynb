{
  "nbformat": 4,
  "nbformat_minor": 0,
  "metadata": {
    "colab": {
      "provenance": [],
      "authorship_tag": "ABX9TyMUrFh1Fmn3Gt94KQHhDzqr",
      "include_colab_link": true
    },
    "kernelspec": {
      "name": "python3",
      "display_name": "Python 3"
    },
    "language_info": {
      "name": "python"
    }
  },
  "cells": [
    {
      "cell_type": "markdown",
      "metadata": {
        "id": "view-in-github",
        "colab_type": "text"
      },
      "source": [
        "<a href=\"https://colab.research.google.com/github/JessyMadhuri/OasisInfobyte_tasks/blob/main/weather_app.ipynb\" target=\"_parent\"><img src=\"https://colab.research.google.com/assets/colab-badge.svg\" alt=\"Open In Colab\"/></a>"
      ]
    },
    {
      "cell_type": "code",
      "execution_count": null,
      "metadata": {
        "colab": {
          "base_uri": "https://localhost:8080/"
        },
        "id": "iLkp464-PNHk",
        "outputId": "66d92c67-9d55-4ca9-a4c9-338e67b4567e"
      },
      "outputs": [
        {
          "output_type": "stream",
          "name": "stdout",
          "text": [
            "Enter city: 500001\n",
            "The weather in 500001 is: Rain\n",
            "The temperature in 500001 is: 83ºF\n"
          ]
        }
      ],
      "source": [
        "import requests\n",
        "\n",
        "api_key = '30d4741c779ba94c470ca1f63045390a'\n",
        "\n",
        "user_input = input(\"Enter city: \")\n",
        "\n",
        "weather_data = requests.get(\n",
        "    f\"https://api.openweathermap.org/data/2.5/weather?q={user_input}&units=imperial&APPID={api_key}\")\n",
        "\n",
        "if weather_data.json()['cod'] == '404':\n",
        "    print(\"No City Found\")\n",
        "else:\n",
        "    weather = weather_data.json()['weather'][0]['main']\n",
        "    temp = round(weather_data.json()['main']['temp'])\n",
        "\n",
        "    print(f\"The weather in {user_input} is: {weather}\")\n",
        "    print(f\"The temperature in {user_input} is: {temp}ºF\")"
      ]
    }
  ]
}