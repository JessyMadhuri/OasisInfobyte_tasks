{
  "nbformat": 4,
  "nbformat_minor": 0,
  "metadata": {
    "colab": {
      "provenance": [],
      "authorship_tag": "ABX9TyPBPGfWzd1G1BIerCeqjSk5",
      "include_colab_link": true
    },
    "kernelspec": {
      "name": "python3",
      "display_name": "Python 3"
    },
    "language_info": {
      "name": "python"
    }
  },
  "cells": [
    {
      "cell_type": "markdown",
      "metadata": {
        "id": "view-in-github",
        "colab_type": "text"
      },
      "source": [
        "<a href=\"https://colab.research.google.com/github/JessyMadhuri/OasisInfobyte_tasks/blob/main/passwordgenerator.ipynb\" target=\"_parent\"><img src=\"https://colab.research.google.com/assets/colab-badge.svg\" alt=\"Open In Colab\"/></a>"
      ]
    },
    {
      "cell_type": "code",
      "execution_count": null,
      "metadata": {
        "colab": {
          "base_uri": "https://localhost:8080/"
        },
        "id": "8HMj27202De0",
        "outputId": "7941e9d9-465a-437f-cc82-1602b1eeb618"
      },
      "outputs": [
        {
          "output_type": "stream",
          "name": "stdout",
          "text": [
            "Enter Length: 10\n",
            "Your random password is: 5:l6^fA5)u\n"
          ]
        }
      ],
      "source": [
        "import random\n",
        "import string\n",
        "\n",
        "length = int(input(\"Enter Length: \"))\n",
        "\n",
        "# The string module contains strings constants for groups of characters such\n",
        "# as punctuation marks, ascii letters and digits.  These groups of characters\n",
        "# are the groups of characters typically allowed in a password.  We concatenate\n",
        "# together these strings to create a string made up of the possible characters\n",
        "# our password may contain.  We'll randomly choose characters from this string\n",
        "# to build our password.\n",
        "chars = string.ascii_letters\n",
        "chars += string.digits\n",
        "chars += string.punctuation\n",
        "\n",
        "# Begin the password as an empty string\n",
        "password = \"\"\n",
        "\n",
        "# The loop will run 'length' number of times, and with each iteration we\n",
        "# randomly select a character from the string chars using the choice function\n",
        "# of the random module, and we concatenate it to password.  This will give us\n",
        "# a string of random characters with the desired length.\n",
        "for i in range(length):\n",
        "    password += random.choice(chars)\n",
        "\n",
        "# We could alternatively create the random password in one line using a list\n",
        "# comprehension.  The list comprehension here that is an argument of the join\n",
        "# string method will give us a list with 'length' number of elements, each of\n",
        "# which is a character chosen at random from chars (technically, each element\n",
        "# is a string of one character).  The join string method will then join these\n",
        "# string together, separated by '' nothing, to give us our password.\n",
        "password = ''.join([random.choice(chars) for i in range(length)])\n",
        "\n",
        "# Output the randomly generated password\n",
        "print(\"Your random password is:\", password)"
      ]
    }
  ]
}